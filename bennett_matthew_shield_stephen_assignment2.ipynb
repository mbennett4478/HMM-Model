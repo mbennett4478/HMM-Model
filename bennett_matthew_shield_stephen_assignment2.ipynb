{
 "cells": [
  {
   "cell_type": "code",
   "execution_count": 1,
   "metadata": {},
   "outputs": [],
   "source": [
    "import numpy as np\n",
    "\n",
    "PI = np.array([0.5,0.5])\n",
    "A = np.array([[0.2,0.8],\n",
    "             [0.999,0.001]])\n",
    "B = np.array([[0.05,0.35,0.2,0.2,0.2],\n",
    "             [0.5,0.1,0.3,0.1,0.0]])\n",
    "Observables = np.array([0,3,0,3,0])"
   ]
  },
  {
   "cell_type": "code",
   "execution_count": 2,
   "metadata": {},
   "outputs": [],
   "source": [
    "def forward(PI,A,B,Observables):\n",
    "    alpha = np.zeros(shape=(2,len(Observables)))\n",
    "    \n",
    "#     Initialize first alpha values\n",
    "    for i in range(len(PI)):\n",
    "        alpha[i,0] = PI[i]*B[i][0]\n",
    "   \n",
    "    def forward_helper(j, t):\n",
    "        sum = 0\n",
    "        for i in range(len(PI)):\n",
    "            sum += alpha[i, t-1]*A[j][i]\n",
    "            \n",
    "        return sum\n",
    "    \n",
    "    for t in range(1, len(Observables)):\n",
    "        for j in range(len(PI)):\n",
    "            alpha[j, t] = forward_helper(j, t)*B[j][Observables[t]]\n",
    "             \n",
    "    return alpha"
   ]
  },
  {
   "cell_type": "code",
   "execution_count": 3,
   "metadata": {},
   "outputs": [
    {
     "data": {
      "text/plain": [
       "array([[2.50000000e-02, 4.10000000e-02, 5.10900000e-04, 3.29735780e-03,\n",
       "        3.50970574e-05],\n",
       "       [2.50000000e-01, 2.52250000e-03, 2.04807613e-02, 5.30869861e-05,\n",
       "        1.64705676e-03]])"
      ]
     },
     "execution_count": 3,
     "metadata": {},
     "output_type": "execute_result"
    }
   ],
   "source": [
    "forward(PI,A,B,Observables)"
   ]
  },
  {
   "cell_type": "code",
   "execution_count": 4,
   "metadata": {},
   "outputs": [],
   "source": [
    "def forward_normalized(PI,A,B,Observables):\n",
    "    alpha = np.zeros(shape=(2,len(Observables)))\n",
    "    c = np.zeros(len(Observables))\n",
    "#     Initialize first alpha values\n",
    "    temp_sum = 0\n",
    "    for i in range(len(PI)):\n",
    "        alpha[i,0] = PI[i] * B[i][0]\n",
    "        temp_sum += alpha[i,0]\n",
    "    c[0] = 1/temp_sum\n",
    "   \n",
    "    def forward_helper(j, t):\n",
    "        sum = 0\n",
    "        for i in range(len(PI)):\n",
    "            sum += alpha[i, t-1] * A[j][i]\n",
    "            \n",
    "        return sum\n",
    "    \n",
    "    for t in range(1, len(Observables)):\n",
    "        temp_sum = 0\n",
    "        for j in range(len(PI)):\n",
    "            alpha[j,t] = forward_helper(j, t) * B[j][Observables[t]]\n",
    "            temp_sum += alpha[j,t]\n",
    "        c[t] = 1 / temp_sum\n",
    "    \n",
    "    for i in range(len(alpha)):\n",
    "        alpha[i,:] = alpha[i,:] * c\n",
    "    \n",
    "    return alpha, c"
   ]
  },
  {
   "cell_type": "code",
   "execution_count": 5,
   "metadata": {},
   "outputs": [
    {
     "data": {
      "text/plain": [
       "(array([[0.09090909, 0.94204147, 0.02433824, 0.98415524, 0.02086436],\n",
       "        [0.90909091, 0.05795853, 0.97566176, 0.01584476, 0.97913564]]),\n",
       " array([  3.63636364,  22.97662129,  47.63796386, 298.46783452,\n",
       "        594.47595511]))"
      ]
     },
     "execution_count": 5,
     "metadata": {},
     "output_type": "execute_result"
    }
   ],
   "source": [
    "forward_normalized(PI,A,B,Observables)"
   ]
  },
  {
   "cell_type": "code",
   "execution_count": null,
   "metadata": {},
   "outputs": [],
   "source": []
  }
 ],
 "metadata": {
  "kernelspec": {
   "display_name": "Python 3",
   "language": "python",
   "name": "python3"
  },
  "language_info": {
   "codemirror_mode": {
    "name": "ipython",
    "version": 3
   },
   "file_extension": ".py",
   "mimetype": "text/x-python",
   "name": "python",
   "nbconvert_exporter": "python",
   "pygments_lexer": "ipython3",
   "version": "3.7.2"
  }
 },
 "nbformat": 4,
 "nbformat_minor": 2
}
