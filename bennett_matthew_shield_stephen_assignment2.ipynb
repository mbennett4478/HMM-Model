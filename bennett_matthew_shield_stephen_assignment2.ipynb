{
 "cells": [
  {
   "cell_type": "code",
   "execution_count": 1,
   "metadata": {},
   "outputs": [],
   "source": [
    "import numpy as np\n",
    "\n",
    "PI = np.array([0.5,0.5])\n",
    "A = np.array([[0.2,0.8],\n",
    "             [0.999,0.001]])\n",
    "B = np.array([[0.05,0.35,0.2,0.2,0.2],\n",
    "             [0.5,0.1,0.3,0.1,0.0]])\n",
    "Observables = np.array([0,3,0,3,0])"
   ]
  },
  {
   "cell_type": "code",
   "execution_count": 2,
   "metadata": {},
   "outputs": [],
   "source": [
    "def forward(PI,A,B,Observables):\n",
    "    alpha = np.zeros(shape=(2,len(Observables)))\n",
    "    i = 0\n",
    "    j = 1\n",
    "    \n",
    "    alpha[i,0]=PI[i]*B[i][0]\n",
    "    alpha[j,0]=PI[j]*B[j][0]\n",
    "\n",
    "    for t in range(1,len(Observables)):\n",
    "        alpha[i,t]=(alpha[i,t-1]*A[i][i]*B[i][i])+(alpha[j,t-1]*A[i][j]*B[i][i])\n",
    "        alpha[j,t]=(alpha[i,t-1]*A[i][j]*B[j][i])+(alpha[j,t-1]*A[j][j]*B[j][i])\n",
    "\n",
    "    return alpha"
   ]
  },
  {
   "cell_type": "code",
   "execution_count": 3,
   "metadata": {},
   "outputs": [
    {
     "data": {
      "text/plain": [
       "array([[2.50000000e-02, 1.02500000e-02, 5.07500000e-04, 1.69277500e-04,\n",
       "        9.89487625e-06],\n",
       "       [2.50000000e-01, 1.01250000e-02, 4.10506250e-03, 2.05052531e-04,\n",
       "        6.78135263e-05]])"
      ]
     },
     "execution_count": 3,
     "metadata": {},
     "output_type": "execute_result"
    }
   ],
   "source": [
    "forward(PI,A,B,Observables)"
   ]
  },
  {
   "cell_type": "code",
   "execution_count": 4,
   "metadata": {},
   "outputs": [],
   "source": [
    "def forward_normalized(PI,A,B,Observables):\n",
    "    alpha = np.zeros(shape=(2,len(Observables)))\n",
    "    c = np.zeros(len(Observables))\n",
    "    i = 0\n",
    "    j = 1\n",
    "    \n",
    "    print(c)\n",
    "    alpha[i,0]=PI[i]*B[i][0]\n",
    "    alpha[j,0]=PI[j]*B[j][0]\n",
    "    c[0] = 1/(alpha[i,0]+alpha[j,0])\n",
    "    alpha[i,0] *= c[0]\n",
    "    alpha[j,0] *= c[0]\n",
    "\n",
    "    for t in range(1,len(Observables)):\n",
    "        alpha[i,t]=(alpha[i,t-1]*A[i][i]*B[i][i])+(alpha[j,t-1]*A[i][j]*B[i][i])\n",
    "        alpha[j,t]=(alpha[i,t-1]*A[i][j]*B[j][i])+(alpha[j,t-1]*A[j][j]*B[j][i])\n",
    "        c[t] = 1/(alpha[i,t]+alpha[j,t])\n",
    "        alpha[i,t] *= c[t]\n",
    "        alpha[j,t] *= c[t]\n",
    "\n",
    "    return alpha,c"
   ]
  },
  {
   "cell_type": "code",
   "execution_count": 5,
   "metadata": {},
   "outputs": [
    {
     "name": "stdout",
     "output_type": "stream",
     "text": [
      "[0. 0. 0. 0. 0.]\n"
     ]
    },
    {
     "data": {
      "text/plain": [
       "(array([[0.09090909, 0.50306748, 0.11002561, 0.45221459, 0.12733341],\n",
       "        [0.90909091, 0.49693252, 0.88997439, 0.54778541, 0.87266659]]),\n",
       " array([ 3.63636364, 13.49693252,  4.41728432, 12.32218127,  4.8171114 ]))"
      ]
     },
     "execution_count": 5,
     "metadata": {},
     "output_type": "execute_result"
    }
   ],
   "source": [
    "forward_normalized(PI,A,B,Observables)"
   ]
  },
  {
   "cell_type": "code",
   "execution_count": null,
   "metadata": {},
   "outputs": [],
   "source": []
  }
 ],
 "metadata": {
  "kernelspec": {
   "display_name": "Python 3",
   "language": "python",
   "name": "python3"
  },
  "language_info": {
   "codemirror_mode": {
    "name": "ipython",
    "version": 3
   },
   "file_extension": ".py",
   "mimetype": "text/x-python",
   "name": "python",
   "nbconvert_exporter": "python",
   "pygments_lexer": "ipython3",
   "version": "3.7.2"
  }
 },
 "nbformat": 4,
 "nbformat_minor": 2
}
