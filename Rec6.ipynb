{
 "cells": [
  {
   "cell_type": "code",
   "execution_count": null,
   "metadata": {},
   "outputs": [],
   "source": []
  },
  {
   "cell_type": "code",
   "execution_count": null,
   "metadata": {},
   "outputs": [],
   "source": []
  },
  {
   "cell_type": "code",
   "execution_count": 135,
   "metadata": {},
   "outputs": [],
   "source": [
    "import numpy as np\n",
    "PI = np.array([0.5,0.5])\n",
    "A = np.array([[0.7,0.3],\n",
    "             [0.3,0.7]])\n",
    "B = np.array([[0.9,0.1],\n",
    "             [0.2,0.8]])\n",
    "Observables = np.array([1,1])"
   ]
  },
  {
   "cell_type": "code",
   "execution_count": 136,
   "metadata": {},
   "outputs": [],
   "source": [
    "def forward(A,B,PI, Observables):\n",
    "    alpha=np.zeros(shape=(2,len(Observables)))\n",
    "    i=0\n",
    "    j=1\n",
    "    \n",
    "    alpha[i,0]=PI[i]*B[i][0]\n",
    "    alpha[j,0]=PI[j]*B[j][0]\n",
    "\n",
    "    for t in range(len(Observables)):\n",
    "        if t == 0:\n",
    "            continue\n",
    "        else:\n",
    "            alpha[i,t]=(alpha[i,t-1]*A[i][i]*B[i][i])+(alpha[j,t-1]*A[i][j]*B[i][i])\n",
    "            alpha[j,t]=(alpha[i,t-1]*A[i][j]*B[j][i])+(alpha[j,t-1]*A[j][j]*B[j][i])\n",
    "            \n",
    "    return(alpha)"
   ]
  },
  {
   "cell_type": "code",
   "execution_count": 137,
   "metadata": {},
   "outputs": [
    {
     "data": {
      "text/plain": [
       "array([[0.45  , 0.3105],\n",
       "       [0.1   , 0.041 ]])"
      ]
     },
     "execution_count": 137,
     "metadata": {},
     "output_type": "execute_result"
    }
   ],
   "source": [
    "forward(A,B,PI, Observables)"
   ]
  },
  {
   "cell_type": "code",
   "execution_count": 62,
   "metadata": {},
   "outputs": [
    {
     "data": {
      "text/plain": [
       "0"
      ]
     },
     "execution_count": 62,
     "metadata": {},
     "output_type": "execute_result"
    }
   ],
   "source": [
    "j"
   ]
  },
  {
   "cell_type": "code",
   "execution_count": null,
   "metadata": {},
   "outputs": [],
   "source": []
  }
 ],
 "metadata": {
  "kernelspec": {
   "display_name": "Python 3",
   "language": "python",
   "name": "python3"
  },
  "language_info": {
   "codemirror_mode": {
    "name": "ipython",
    "version": 3
   },
   "file_extension": ".py",
   "mimetype": "text/x-python",
   "name": "python",
   "nbconvert_exporter": "python",
   "pygments_lexer": "ipython3",
   "version": "3.7.2"
  }
 },
 "nbformat": 4,
 "nbformat_minor": 2
}
