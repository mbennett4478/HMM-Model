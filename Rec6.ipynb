{
 "cells": [
  {
   "cell_type": "code",
   "execution_count": 63,
   "metadata": {},
   "outputs": [],
   "source": [
    "import numpy as np\n",
    "PI = np.array([0.5,0.5])\n",
    "A = np.array([[0.7,0.3],\n",
    "             [0.3,0.7]])\n",
    "B = np.array([[0.9,0.1],\n",
    "             [0.2,0.8]])\n",
    "Observables = np.array([0,0])"
   ]
  },
  {
   "cell_type": "code",
   "execution_count": 51,
   "metadata": {},
   "outputs": [],
   "source": [
    "def forward(A,B,PI, Observables):\n",
    "    alpha=np.zeros(shape=(2,len(Observables)))\n",
    "    i=0\n",
    "    j=1\n",
    "    \n",
    "    alpha[i,0]=PI[i]*B[i][0]\n",
    "    alpha[j,0]=PI[j]*B[j][0]\n",
    "\n",
    "    for t in range(len(Observables)):\n",
    "        if t == 0:\n",
    "            continue\n",
    "        else:\n",
    "            alpha[i,t]=(alpha[i,t-1]*A[i][i]*B[i][i])+(alpha[j,t-1]*A[i][j]*B[i][i])\n",
    "            alpha[j,t]=(alpha[i,t-1]*A[i][j]*B[j][i])+(alpha[j,t-1]*A[j][j]*B[j][i])\n",
    "            \n",
    "    return(alpha)"
   ]
  },
  {
   "cell_type": "code",
   "execution_count": 52,
   "metadata": {},
   "outputs": [
    {
     "data": {
      "text/plain": [
       "array([[0.45  , 0.3105],\n",
       "       [0.1   , 0.041 ]])"
      ]
     },
     "execution_count": 52,
     "metadata": {},
     "output_type": "execute_result"
    }
   ],
   "source": [
    "forward(A,B,PI, Observables)"
   ]
  },
  {
   "cell_type": "code",
   "execution_count": 65,
   "metadata": {},
   "outputs": [],
   "source": [
    "def test(PI,A,B,Observables):\n",
    "    alpha = np.zeros(shape=(2,len(Observables)))\n",
    "    \n",
    "#     Initialize first alpha values\n",
    "    for i in range(len(PI)):\n",
    "        alpha[i,0] = PI[i]*B[i][0]\n",
    "   \n",
    "    def forward_helper(j, t):\n",
    "        sum = 0\n",
    "        for i in range(len(PI)):\n",
    "            print(\"alpha: \", alpha[i,t-1])\n",
    "            print(\"A: \", A[j][i])\n",
    "            sum += alpha[i, t-1]*A[j][i]\n",
    "            \n",
    "            \n",
    "        print(\"sum: \",sum)\n",
    "        return sum\n",
    "    \n",
    "    for t in range(1, len(Observables)):\n",
    "        for j in range(len(PI)):\n",
    "            alpha[j, t] = forward_helper(j, t)*B[j][Observables[t]]\n",
    "            print(\"Bj: \", B[j][Observables[t]])\n",
    "             \n",
    "    return alpha"
   ]
  },
  {
   "cell_type": "code",
   "execution_count": 64,
   "metadata": {},
   "outputs": [
    {
     "name": "stdout",
     "output_type": "stream",
     "text": [
      "alpha:  0.45\n",
      "A:  0.7\n",
      "alpha:  0.1\n",
      "A:  0.3\n",
      "sum:  0.345\n",
      "Bj:  0.9\n",
      "alpha:  0.45\n",
      "A:  0.3\n",
      "alpha:  0.1\n",
      "A:  0.7\n",
      "sum:  0.20500000000000002\n",
      "Bj:  0.2\n"
     ]
    },
    {
     "data": {
      "text/plain": [
       "array([[0.45  , 0.3105],\n",
       "       [0.1   , 0.041 ]])"
      ]
     },
     "execution_count": 64,
     "metadata": {},
     "output_type": "execute_result"
    }
   ],
   "source": []
  }
 ],
 "metadata": {
  "kernelspec": {
   "display_name": "Python 3",
   "language": "python",
   "name": "python3"
  },
  "language_info": {
   "codemirror_mode": {
    "name": "ipython",
    "version": 3
   },
   "file_extension": ".py",
   "mimetype": "text/x-python",
   "name": "python",
   "nbconvert_exporter": "python",
   "pygments_lexer": "ipython3",
   "version": "3.7.2"
  }
 },
 "nbformat": 4,
 "nbformat_minor": 2
}
